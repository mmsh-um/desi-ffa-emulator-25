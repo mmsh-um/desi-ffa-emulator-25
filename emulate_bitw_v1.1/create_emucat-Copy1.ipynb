{
 "cells": [
  {
   "cell_type": "markdown",
   "metadata": {},
   "source": [
    "# Convertes the output of emulate_bitw into a standard fits catalogue  "
   ]
  },
  {
   "cell_type": "code",
   "execution_count": 1,
   "metadata": {
    "tags": []
   },
   "outputs": [],
   "source": [
    "from matplotlib import pyplot as plt\n",
    "from astropy.io import (fits, ascii)\n",
    "import numpy as np\n",
    "from numpy.random import default_rng\n",
    "import pickle\n",
    "from astropy.table import Table"
   ]
  },
  {
   "cell_type": "markdown",
   "metadata": {},
   "source": [
    "## Reading the bitweights (fortran binary)"
   ]
  },
  {
   "cell_type": "code",
   "execution_count": 2,
   "metadata": {
    "tags": []
   },
   "outputs": [
    {
     "name": "stdout",
     "output_type": "stream",
     "text": [
      "npart = 22446386\n",
      "(22446386, 9)\n",
      "[[0 0 0 ... 0 0 0]\n",
      " [0 0 0 ... 0 0 0]\n",
      " [0 0 0 ... 0 0 0]\n",
      " ...\n",
      " [0 0 0 ... 0 0 0]\n",
      " [0 0 0 ... 0 0 0]\n",
      " [0 0 0 ... 0 0 0]]\n"
     ]
    }
   ],
   "source": [
    "nwe = 9\n",
    "\n",
    "from scipy.io import FortranFile\n",
    "#namin_fbw = '/global/cfs/cdirs/desi/survey/catalogs/main/mocks/FAemu_preliminary/sikandar/Updated_Code_CFC/emulate_bitw_v1.1/out/EZOutputs_TrainedOnMock0/EZ_FAemu_m1_B_QSO_llen0.02_truent_cfc_antico_deco0.1_beta0_nbits279_wemu_unformatted.dat'\n",
    "#namin_fbw = \"/global/cfs/cdirs/desi/survey/catalogs/main/mocks/FAemu_preliminary/sikandar/Updated_Code_CFC/emulate_bitw_v1.1/out/EZout_prepped/prepped_EZ_FAemu_m1_N_QSO_llen0.02_truent_cfc_antico_deco0.1_beta0_nbits279_wemu_unformatted.dat\"\n",
    "#namin_fbw = '/global/cfs/cdirs/desi/survey/catalogs/main/mocks/FAemu_preliminary/sikandar/Updated_Code_CFC/emulate_bitw_v1.1/out/EZout_corr/EZ_FAemu_m0_N_QSO_llen0.02_truent_cfc_antico_deco0.1_beta0_nbits279_wemu_unformatted.dat' \n",
    "#namin_fbw = '/global/cfs/cdirs/desi/survey/catalogs/main/mocks/FAemu_preliminary/emulate_bitw_v1.0/out/FAemu_m0_N_ELG_llen0.02_truent_cfc_nbits279_wemu_unformatted.dat' \n",
    "#namin_fbw = '/global/cfs/cdirs/desi/survey/catalogs/main/mocks/FAemu_preliminary/sikandar/Updated_Code_CFC/emulate_bitw_v1.1/out/EZOutputs_TrainedOnData/EZ_FAemu_m1_B_LRG_llen0.02_truent_cfc_antico_deco0.1_beta0_nbits279_wemu_unformatted.dat'\n",
    "#namin_fbw = '/global/cfs/cdirs/desi/survey/catalogs/main/mocks/FAemu_preliminary/sikandar/Updated_Code_CFC/emulate_bitw_v1.1/out/EZOutputs_TrainedOnData/EZ_FAemu_m1_B_ELG_llen0.02_truent_cfc_antico_deco0.1_beta0_nbits279_wemu_unformatted.dat'\n",
    "#namin_fbw = '/global/cfs/cdirs/desi/survey/catalogs/main/mocks/FAemu_preliminary/sikandar/Updated_Code_CFC/emulate_bitw_v1.1/out/TrainedEmulator_Data/FAemu_data_B_LRG_llen0.02_truent_cfc_antico_deco0.1_beta0_nbits279_wemu_unformatted.dat'\n",
    "namin_fbw = \"/global/cfs/cdirs/desi/survey/catalogs/main/mocks/FAemu_preliminary/sikandar/Updated_Code_CFC/emulate_bitw_v1.1/out/TrainedEmulator_Data/FAemu_data_B_QSO_llen0.02_truent_cfc_antico_deco0.1_beta0_nbits279_wemu_unformatted.dat\"\n",
    "f = FortranFile(namin_fbw, 'r')\n",
    "we = f.read_ints(dtype='int32')\n",
    "#print(np.shape(we))\n",
    "\n",
    "npart = np.shape(we)[0]//nwe\n",
    "print('npart =', npart)\n",
    "we = we.reshape((nwe, npart)).T;\n",
    "print(np.shape(we))\n",
    "\n",
    "print(we)"
   ]
  },
  {
   "cell_type": "markdown",
   "metadata": {},
   "source": [
    "# Fuctions to pack-unpack bitweights in different formats"
   ]
  },
  {
   "cell_type": "code",
   "execution_count": 3,
   "metadata": {
    "tags": []
   },
   "outputs": [],
   "source": [
    "def pack_bitweights(array):\n",
    "    \"\"\"\n",
    "    Creates an array of bitwise weights stored as 64-bit signed integers\n",
    "    Input: a 2D boolean array of shape (Ngal, Nreal), where Ngal is the total number \n",
    "           of target galaxies, and Nreal is the number of fibre assignment realizations.\n",
    "    Output: returns a 2D array of 64-bit signed integers. \n",
    "    \"\"\"\n",
    "    Nbits=64\n",
    "    dtype=np.int64\n",
    "    Ngal, Nreal = array.shape           # total number of realizations and number of target galaxies\n",
    "    Nout = (Nreal + Nbits - 1) // Nbits # number of output columns\n",
    "    # intermediate arrays\n",
    "    bitw8 = np.zeros((Ngal, 8), dtype=\"i\")   # array of individual bits of 8 realizations\n",
    "    bitweights = np.zeros(Ngal, dtype=dtype) # array of 64-bit integers\n",
    "    # array to store final output\n",
    "    output_array = np.zeros((Ngal, Nout), dtype=dtype)\n",
    "    idx_out = 0 # initial column in output_array\n",
    "    # loop through realizations to build bitwise weights\n",
    "    for i in range(Nreal):\n",
    "        bitw8[array[:,i], i%8] = 1\n",
    "        arr = np.array(np.packbits(bitw8[:,::-1]), dtype=dtype)\n",
    "        bitweights = np.bitwise_or(bitweights, np.left_shift(arr, 8*((i%Nbits)//8)))\n",
    "        #print(np.binary_repr(bitweights[0]), bitweights[0])\n",
    "        if (i+1)%Nbits == 0 or i+1 == Nreal:\n",
    "            output_array[:,idx_out] = bitweights\n",
    "            bitweights[:] = 0\n",
    "            idx_out += 1\n",
    "        if (i+1)%8 == 0:\n",
    "            bitw8[:] = 0\n",
    "    return output_array"
   ]
  },
  {
   "cell_type": "code",
   "execution_count": 4,
   "metadata": {
    "tags": []
   },
   "outputs": [],
   "source": [
    "def unpack_bitweights(we):\n",
    "    Nbits = 64\n",
    "    Ngal, Nwe = np.shape(we)\n",
    "    Nreal = Nbits*Nwe\n",
    "    print('Nbits, Nwe = ',Nbits,Nwe)\n",
    "    print('Nreal = ',Nreal)\n",
    "    print('Ngal = ',Ngal)\n",
    "    true8=[np.uint8(255) for n in range(0, Ngal)]\n",
    "    array_bool = np.zeros((Ngal,Nreal), dtype=bool)\n",
    "    for j in range(Nwe):\n",
    "        lg = np.zeros((Ngal, Nbits), dtype=bool)\n",
    "        for i in range(Nbits//8):\n",
    "            chunk8 = np.uint8(np.bitwise_and(np.right_shift(we[:,j],8*i), true8))\n",
    "            lg[:,Nbits-8*(i+1):Nbits-i*8] = np.reshape(np.unpackbits(chunk8), (Ngal, 8))\n",
    "        array_bool[:,j*Nbits:(j+1)*Nbits] = lg[:,::-1]\n",
    "    return array_bool"
   ]
  },
  {
   "cell_type": "code",
   "execution_count": 5,
   "metadata": {
    "tags": []
   },
   "outputs": [],
   "source": [
    "def pack_bitweights_BP2017(array):\n",
    "    Nbits = 31\n",
    "    Nwe = np.shape(array)[1]//Nbits\n",
    "    Nreal = Nwe*Nbits\n",
    "    Ngal = np.shape(array)[0]\n",
    "    print('Nbits, Nwe = ',Nbits,Nwe)\n",
    "    print('Nreal = ',Nreal)\n",
    "    print('Ngal = ',Ngal)\n",
    "    we = np.zeros((Ngal, Nwe), dtype=np.int32)\n",
    "    for i in range(Nreal):\n",
    "        k = i % Nbits\n",
    "        m = i // Nbits\n",
    "        we[array[:,i], m] += 2**k        \n",
    "    return we"
   ]
  },
  {
   "cell_type": "code",
   "execution_count": 6,
   "metadata": {
    "tags": []
   },
   "outputs": [],
   "source": [
    "def unpack_bitweights_BP2017(we):\n",
    "    Nbits = 31\n",
    "    Ngal, Nwe = np.shape(we)\n",
    "    Nreal = Nbits * Nwe\n",
    "    print('Nbits, Nwe = ',Nbits,Nwe)\n",
    "    print('Nreal = ',Nreal)\n",
    "    print('Ngal = ',Ngal)    \n",
    "    array_bool = np.zeros((Ngal, Nreal), dtype=bool)\n",
    "    \n",
    "    # To speed up\n",
    "    we_rs = np.reshape(we, (Ngal, Nwe, 1))\n",
    "    \n",
    "    array_bool = np.bitwise_and(np.right_shift(we_rs, np.arange(Nbits)), 1).astype(bool)\n",
    "    array_bool = np.reshape(array_bool, (Ngal, Nreal))\n",
    "\n",
    "    return array_bool\n",
    "\n",
    "\n",
    "# def unpack_bitweights_BP2017(we):\n",
    "#     Nbits = 31\n",
    "#     Ngal, Nwe = np.shape(we)\n",
    "#     Nreal = Nbits * Nwe\n",
    "#     print('Nbits, Nwe = ', Nbits, Nwe)\n",
    "#     print('Nreal = ', Nreal)\n",
    "#     print('Ngal = ', Ngal)\n",
    "\n",
    "#     binary_rep = np.unpackbits(np.array(we).T.view(np.uint8).T)\n",
    "#     reshaped_array = binary_rep.reshape(Ngal, 32*Nwe)\n",
    "\n",
    "#     return reshaped_array.astype(bool)\n",
    "\n",
    "\n",
    "# def unpack_bitweights_BP2017(we):\n",
    "#     Nbits = 31\n",
    "#     Ngal, Nwe = we.shape\n",
    "    \n",
    "#     Nreal = Nbits * Nwe\n",
    "#     print('Nbits, Nwe = ', Nbits, Nwe)\n",
    "#     print('Nreal = ', Nreal)\n",
    "#     print('Ngal = ', Ngal)\n",
    "    \n",
    "#     # Convert the input array to a binary representation\n",
    "#     binary_we = ((we[:, :, None] & (1 << np.arange(Nbits))) > 0).astype(bool)\n",
    "    \n",
    "#     # Reshape the binary array to match the desired output shape\n",
    "#     array_bool = binary_we.reshape(Ngal, Nreal)\n",
    "    \n",
    "#     return array_bool\n",
    "\n",
    "\n",
    "\n",
    "# def unpack_bitweights_BP2017(we):\n",
    "    \n",
    "#     Nbits = 31\n",
    "#     Ngal, Nwe = np.shape(we)\n",
    "#     Nreal = Nbits*Nwe\n",
    "#     print('Nbits, Nwe = ',Nbits,Nwe)\n",
    "#     print('Nreal = ',Nreal)\n",
    "#     print('Ngal = ',Ngal)    \n",
    "    \n",
    "#     array_bool = np.zeros((Ngal, Nreal), dtype=bool)\n",
    "#     for i in range(0, Ngal):\n",
    "#         for j in range(0, Nwe):\n",
    "#             lg = bin(we[i][j])[2:]\n",
    "#             lg = lg[::-1]+(Nbits-len(lg))*'0'\n",
    "#             lg = np.array([int(digit) for digit in lg], dtype=bool)\n",
    "#             array_bool[i,j*Nbits:(j+1)*Nbits] = lg\n",
    "      \n",
    "#     return array_bool\n",
    "\n",
    "# def unpack_bitweights_BP2017(we):\n",
    "    \n",
    "#     Nbits = 32\n",
    "#     Ngal, Nwe = np.shape(we)\n",
    "#     Nreal = Nbits*Nwe\n",
    "#     print('Nbits, Nwe = ',Nbits,Nwe)\n",
    "#     print('Nreal = ',Nreal)\n",
    "#     print('Ngal = ',Ngal)    \n",
    "    \n",
    "#     array_bool = np.zeros((Ngal, Nreal), dtype=bool)\n",
    "#     for i in range(0, Ngal):\n",
    "#         for j in range(0, Nwe):\n",
    "#             lg = bin(we[i][j])[2:]\n",
    "#             lg = lg[::-1]+(Nbits-len(lg))*'0'\n",
    "#             lg = np.array([int(digit) for digit in lg], dtype=bool)\n",
    "#             array_bool[i,j*Nbits:(j+1)*Nbits] = lg\n",
    "      \n",
    "#     return array_bool"
   ]
  },
  {
   "cell_type": "code",
   "execution_count": null,
   "metadata": {},
   "outputs": [],
   "source": []
  },
  {
   "cell_type": "markdown",
   "metadata": {},
   "source": [
    "## Unpacking bitweights"
   ]
  },
  {
   "cell_type": "code",
   "execution_count": null,
   "metadata": {
    "tags": []
   },
   "outputs": [
    {
     "name": "stdout",
     "output_type": "stream",
     "text": [
      "Nbits, Nwe =  31 9\n",
      "Nreal =  279\n",
      "Ngal =  22446386\n"
     ]
    }
   ],
   "source": [
    "bool_tot = unpack_bitweights_BP2017(we)"
   ]
  },
  {
   "cell_type": "code",
   "execution_count": null,
   "metadata": {
    "tags": []
   },
   "outputs": [],
   "source": [
    "np.shape(bool_tot)"
   ]
  },
  {
   "cell_type": "code",
   "execution_count": null,
   "metadata": {
    "tags": []
   },
   "outputs": [],
   "source": [
    "bool_tot"
   ]
  },
  {
   "cell_type": "code",
   "execution_count": null,
   "metadata": {
    "tags": []
   },
   "outputs": [],
   "source": [
    "namout_bool = 'out/emucat_out/data_QSO_B_bool_tot_datatrain.bin'"
   ]
  },
  {
   "cell_type": "markdown",
   "metadata": {},
   "source": [
    "### write bool array (just for convenience, not to have to recompute it)"
   ]
  },
  {
   "cell_type": "code",
   "execution_count": 62,
   "metadata": {
    "tags": []
   },
   "outputs": [],
   "source": [
    "bool_file = open(namout_bool, 'wb')\n",
    "pickle.dump(bool_tot, bool_file)\n",
    "bool_file.close()"
   ]
  },
  {
   "cell_type": "markdown",
   "metadata": {},
   "source": [
    "### read bool array (just for convenience, in case you have already computed it)"
   ]
  },
  {
   "cell_type": "code",
   "execution_count": 8,
   "metadata": {
    "tags": []
   },
   "outputs": [],
   "source": [
    "namin_bool = namout_bool\n",
    "\n",
    "bool_file = open(namin_bool, 'rb')\n",
    "bool_tot = pickle.load(bool_file)\n",
    "bool_file.close()\n",
    "\n",
    "#print(bool_tot)"
   ]
  },
  {
   "cell_type": "code",
   "execution_count": null,
   "metadata": {
    "tags": []
   },
   "outputs": [],
   "source": []
  },
  {
   "cell_type": "code",
   "execution_count": 64,
   "metadata": {
    "tags": []
   },
   "outputs": [],
   "source": [
    "#bitw_test = pack_bitweights_BP2017(bool_tot)"
   ]
  },
  {
   "cell_type": "markdown",
   "metadata": {},
   "source": [
    "## Randomly extracting \"observed\" sample and alt-realisations"
   ]
  },
  {
   "cell_type": "code",
   "execution_count": 9,
   "metadata": {
    "tags": []
   },
   "outputs": [
    {
     "name": "stdout",
     "output_type": "stream",
     "text": [
      "[ 97  65 200   5 112 133  96 261  70  76  93 115 119 148  87 116 201 247\n",
      " 192 178 165   4  46 276 140  60 278  18 110  69 173 207 136 135  13 158\n",
      "  38  20 186  41  88 229 208  94  36 139  71   7 257 209  84  74 249  34\n",
      " 151 248 160 106 121  23  19 268 104  67 259 154 146  32  49 246  99  77\n",
      " 188  86 144 262 258 166  44  73 191 183 102 181 176 108 180 271 142 237\n",
      " 265  29 107 243 220 147 126 226 224  56 171 240  83 221   2  95 182 161\n",
      " 185 170 256 215 232 150 168 124 244  12 153  62 228 141 127 159  64 272\n",
      " 132 230   9  66  78 143 235  51 274  53  10 254  30 252  79 216 193 111\n",
      " 155 203  82 218  21  27  61  72 205 122 275 163  37 129  50  52 223 241\n",
      " 114 101  17 164  31 242 206   1 128  35 118  85 214 217 125 137  90 157\n",
      " 269 225 117   8 251 138 134  43 222 266  33 233 172  54 212  89 152  28\n",
      "  24 194 267 175 245 198 211  59  42 174 189   6 227  25 202 162 190 156\n",
      "  47 145 100 277 210  55  39  14 250 167 219 109 213 177  80  22 130 253\n",
      " 236  63 195   3  26  11  68  57 255 196  81 103 234 169  16 199 179 149\n",
      "  91 123 187 239 131]\n"
     ]
    }
   ],
   "source": [
    "rng = default_rng()\n",
    "nsmpls_out = 64*4\n",
    "nsmpls_in = 31*9 \n",
    "id_ran = rng.choice(nsmpls_in, size=nsmpls_out+1, replace=False)\n",
    "print(id_ran)"
   ]
  },
  {
   "cell_type": "code",
   "execution_count": 12,
   "metadata": {
    "tags": []
   },
   "outputs": [
    {
     "name": "stdout",
     "output_type": "stream",
     "text": [
      "[False False False ... False False False]\n",
      "2740242\n",
      "(array([      5,       6,       7, ..., 5081394, 5081396, 5081412]),)\n",
      "(1, 2740242)\n"
     ]
    }
   ],
   "source": [
    "msk_obs = bool_tot[:,id_ran[0]]\n",
    "id_msk_obs = np.where(msk_obs)\n",
    "print(msk_obs)\n",
    "print(np.sum(msk_obs))\n",
    "print(id_msk_obs)\n",
    "print(np.shape(id_msk_obs))"
   ]
  },
  {
   "cell_type": "code",
   "execution_count": 13,
   "metadata": {
    "tags": []
   },
   "outputs": [
    {
     "name": "stdout",
     "output_type": "stream",
     "text": [
      "(22446386, 256)\n"
     ]
    }
   ],
   "source": [
    "bool_out = bool_tot[:,id_ran[1:]]\n",
    "print(np.shape(bool_out))"
   ]
  },
  {
   "cell_type": "markdown",
   "metadata": {},
   "source": [
    "## Packing bitweights with the desired format"
   ]
  },
  {
   "cell_type": "code",
   "execution_count": 14,
   "metadata": {
    "tags": []
   },
   "outputs": [
    {
     "name": "stdout",
     "output_type": "stream",
     "text": [
      "[[ 3178421488697508019   851884271869140993   382995523487662740\n",
      "  -5251196061690346470]\n",
      " [-6719252858843881136 -5761143631353800144 -1727841771583124061\n",
      "   4938887519879048965]\n",
      " [-6890032337682167708  1194603030527381640 -9127665920972160935\n",
      "   -564198936050515966]\n",
      " ...\n",
      " [                   0                    0                    0\n",
      "                     0]\n",
      " [                   0                    0                    0\n",
      "                     0]\n",
      " [                   0                    0                    0\n",
      "                     0]]\n",
      "(22446386, 4)\n"
     ]
    }
   ],
   "source": [
    "we_out = pack_bitweights(bool_out)\n",
    "#we_out = pack_bitweights_BP2017(bool_out)\n",
    "\n",
    "print(we_out)\n",
    "print(np.shape(we_out))"
   ]
  },
  {
   "cell_type": "markdown",
   "metadata": {},
   "source": [
    "## Computing IIP weights"
   ]
  },
  {
   "cell_type": "code",
   "execution_count": 15,
   "metadata": {
    "tags": []
   },
   "outputs": [
    {
     "name": "stdout",
     "output_type": "stream",
     "text": [
      "npart_out = 22446386\n",
      "nbits_out = 256\n"
     ]
    }
   ],
   "source": [
    "npart_out = np.shape(we_out)[0]\n",
    "print('npart_out =', npart_out)\n",
    "\n",
    "nbits_out = np.shape(we_out)[1] * 64\n",
    "#nbits_out = np.shape(we_out)[1] * 31\n",
    "print('nbits_out =', nbits_out)\n",
    "\n",
    "wiip = np.zeros(npart, dtype=float)\n",
    "#wiip[id_msk_obs] = nbits_out / np.sum(bool_out[id_msk], axis=1)\n",
    "wiip[id_msk_obs] = (nbits_out + 1) / (np.sum(bool_out[id_msk_obs], axis=1) + 1)"
   ]
  },
  {
   "cell_type": "code",
   "execution_count": 16,
   "metadata": {
    "tags": []
   },
   "outputs": [
    {
     "name": "stdout",
     "output_type": "stream",
     "text": [
      "[0. 0. 0. ... 0. 0. 0.]\n"
     ]
    },
    {
     "data": {
      "image/png": "[encoded data removed]",
      "text/plain": [
       "<Figure size 640x480 with 1 Axes>"
      ]
     },
     "metadata": {},
     "output_type": "display_data"
    }
   ],
   "source": [
    "print(wiip)\n",
    "plt.hist(wiip[id_msk_obs], np.arange(-0.5,15,0.2));"
   ]
  },
  {
   "cell_type": "code",
   "execution_count": 17,
   "metadata": {
    "tags": []
   },
   "outputs": [
    {
     "data": {
      "text/plain": [
       "array([0.        , 0.        , 0.        , 0.        , 0.        ,\n",
       "       2.88764045, 3.72463768, 2.51960784, 0.        , 0.        ,\n",
       "       0.        ])"
      ]
     },
     "execution_count": 17,
     "metadata": {},
     "output_type": "execute_result"
    }
   ],
   "source": [
    "wiip[0:11]"
   ]
  },
  {
   "cell_type": "markdown",
   "metadata": {},
   "source": [
    "## Reading galaxy positions and other quantities of interest"
   ]
  },
  {
   "cell_type": "code",
   "execution_count": 25,
   "metadata": {
    "tags": []
   },
   "outputs": [],
   "source": [
    "namin_ref = \"/global/cfs/cdirs/desi/survey/catalogs/main/mocks/FAemu_preliminary/sikandar/Updated_Code_CFC/fof_v1.0/in/forFAemu_data.fits\"\n",
    "data = Table.read(namin_ref)\n"
   ]
  },
  {
   "cell_type": "code",
   "execution_count": 26,
   "metadata": {
    "tags": []
   },
   "outputs": [
    {
     "data": {
      "text/html": [
       "<div><i>Table length=22446386</i>\n",
       "<table id=\"table140642595667824\" class=\"table-striped table-bordered table-condensed\">\n",
       "<thead><tr><th>TARGETID</th><th>RA</th><th>DEC</th><th>TRUEZ</th><th>RSDZ</th><th>DESI_TARGET</th><th>RCH_MASK</th><th>SEL_MASK</th><th>NTILE</th><th>GAL_CAP</th><th>COMP_TILE</th></tr></thead>\n",
       "<thead><tr><th>int64</th><th>float32</th><th>float32</th><th>float32</th><th>float32</th><th>int64</th><th>bool</th><th>bool</th><th>int64</th><th>bytes1</th><th>float32</th></tr></thead>\n",
       "<tr><td>39627322696933880</td><td>21.681782</td><td>-19.387215</td><td>0.8313466</td><td>0.8313466</td><td>1</td><td>True</td><td>True</td><td>1</td><td>S</td><td>0.33353457</td></tr>\n",
       "<tr><td>39627322696934440</td><td>21.697105</td><td>-19.395105</td><td>999999.0</td><td>999999.0</td><td>1</td><td>True</td><td>False</td><td>1</td><td>S</td><td>0.33353457</td></tr>\n",
       "<tr><td>39627322701121168</td><td>21.746347</td><td>-19.415192</td><td>999999.0</td><td>999999.0</td><td>1</td><td>True</td><td>False</td><td>1</td><td>S</td><td>0.33353457</td></tr>\n",
       "<tr><td>39627322701121760</td><td>21.761322</td><td>-19.422855</td><td>0.55896866</td><td>0.55896866</td><td>1</td><td>True</td><td>True</td><td>1</td><td>S</td><td>0.33353457</td></tr>\n",
       "<tr><td>39627322701123560</td><td>21.814575</td><td>-19.385004</td><td>999999.0</td><td>999999.0</td><td>1</td><td>True</td><td>False</td><td>1</td><td>S</td><td>0.33353457</td></tr>\n",
       "<tr><td>39627322701123648</td><td>21.81768</td><td>-19.392824</td><td>0.79749465</td><td>0.79749465</td><td>1</td><td>True</td><td>True</td><td>1</td><td>S</td><td>0.33353457</td></tr>\n",
       "<tr><td>39627322701124464</td><td>21.84038</td><td>-19.398827</td><td>999999.0</td><td>999999.0</td><td>1</td><td>True</td><td>False</td><td>1</td><td>S</td><td>0.33353457</td></tr>\n",
       "<tr><td>39627322701124720</td><td>21.84685</td><td>-19.43136</td><td>999999.0</td><td>999999.0</td><td>1</td><td>True</td><td>False</td><td>1</td><td>S</td><td>0.33353457</td></tr>\n",
       "<tr><td>39627322701125064</td><td>21.85648</td><td>-19.40372</td><td>0.79862815</td><td>0.79862815</td><td>1</td><td>True</td><td>True</td><td>1</td><td>S</td><td>0.33353457</td></tr>\n",
       "<tr><td>39627322701125472</td><td>21.867706</td><td>-19.384865</td><td>0.834056</td><td>0.834056</td><td>1</td><td>True</td><td>True</td><td>1</td><td>S</td><td>0.33353457</td></tr>\n",
       "<tr><td>...</td><td>...</td><td>...</td><td>...</td><td>...</td><td>...</td><td>...</td><td>...</td><td>...</td><td>...</td><td>...</td></tr>\n",
       "<tr><td>39637341018523704</td><td>341.36398</td><td>32.87539</td><td>999999.0</td><td>999999.0</td><td>34</td><td>True</td><td>False</td><td>1</td><td>S</td><td>0.11158632</td></tr>\n",
       "<tr><td>39637341018523816</td><td>341.36942</td><td>32.884476</td><td>999999.0</td><td>999999.0</td><td>34</td><td>True</td><td>False</td><td>1</td><td>S</td><td>0.11158632</td></tr>\n",
       "<tr><td>39637341018523880</td><td>341.37253</td><td>32.928047</td><td>999999.0</td><td>999999.0</td><td>34</td><td>True</td><td>False</td><td>1</td><td>S</td><td>0.11158632</td></tr>\n",
       "<tr><td>39637341018523936</td><td>341.37463</td><td>32.89052</td><td>999999.0</td><td>999999.0</td><td>34</td><td>True</td><td>False</td><td>1</td><td>S</td><td>0.11158632</td></tr>\n",
       "<tr><td>39637341018523960</td><td>341.37552</td><td>32.935818</td><td>999999.0</td><td>999999.0</td><td>34</td><td>True</td><td>False</td><td>1</td><td>S</td><td>0.11158632</td></tr>\n",
       "<tr><td>39637341018524016</td><td>341.37866</td><td>32.880917</td><td>999999.0</td><td>999999.0</td><td>34</td><td>True</td><td>False</td><td>1</td><td>S</td><td>0.11158632</td></tr>\n",
       "<tr><td>39637341018525680</td><td>341.4624</td><td>32.877975</td><td>1.0303807</td><td>1.0303807</td><td>34</td><td>True</td><td>True</td><td>1</td><td>S</td><td>0.11158632</td></tr>\n",
       "<tr><td>39637341018526184</td><td>341.48856</td><td>32.894905</td><td>999999.0</td><td>999999.0</td><td>34</td><td>True</td><td>False</td><td>1</td><td>S</td><td>0.11158632</td></tr>\n",
       "<tr><td>39637341018526304</td><td>341.4938</td><td>32.876186</td><td>999999.0</td><td>999999.0</td><td>34</td><td>True</td><td>False</td><td>1</td><td>S</td><td>0.11158632</td></tr>\n",
       "<tr><td>39637341018526640</td><td>341.51083</td><td>32.90156</td><td>999999.0</td><td>999999.0</td><td>34</td><td>True</td><td>False</td><td>1</td><td>S</td><td>0.11158632</td></tr>\n",
       "</table></div>"
      ],
      "text/plain": [
       "<Table length=22446386>\n",
       "     TARGETID         RA       DEC       TRUEZ    ... NTILE GAL_CAP COMP_TILE \n",
       "      int64        float32   float32    float32   ... int64  bytes1  float32  \n",
       "----------------- --------- ---------- ---------- ... ----- ------- ----------\n",
       "39627322696933880 21.681782 -19.387215  0.8313466 ...     1       S 0.33353457\n",
       "39627322696934440 21.697105 -19.395105   999999.0 ...     1       S 0.33353457\n",
       "39627322701121168 21.746347 -19.415192   999999.0 ...     1       S 0.33353457\n",
       "39627322701121760 21.761322 -19.422855 0.55896866 ...     1       S 0.33353457\n",
       "39627322701123560 21.814575 -19.385004   999999.0 ...     1       S 0.33353457\n",
       "39627322701123648  21.81768 -19.392824 0.79749465 ...     1       S 0.33353457\n",
       "39627322701124464  21.84038 -19.398827   999999.0 ...     1       S 0.33353457\n",
       "39627322701124720  21.84685  -19.43136   999999.0 ...     1       S 0.33353457\n",
       "39627322701125064  21.85648  -19.40372 0.79862815 ...     1       S 0.33353457\n",
       "39627322701125472 21.867706 -19.384865   0.834056 ...     1       S 0.33353457\n",
       "              ...       ...        ...        ... ...   ...     ...        ...\n",
       "39637341018523704 341.36398   32.87539   999999.0 ...     1       S 0.11158632\n",
       "39637341018523816 341.36942  32.884476   999999.0 ...     1       S 0.11158632\n",
       "39637341018523880 341.37253  32.928047   999999.0 ...     1       S 0.11158632\n",
       "39637341018523936 341.37463   32.89052   999999.0 ...     1       S 0.11158632\n",
       "39637341018523960 341.37552  32.935818   999999.0 ...     1       S 0.11158632\n",
       "39637341018524016 341.37866  32.880917   999999.0 ...     1       S 0.11158632\n",
       "39637341018525680  341.4624  32.877975  1.0303807 ...     1       S 0.11158632\n",
       "39637341018526184 341.48856  32.894905   999999.0 ...     1       S 0.11158632\n",
       "39637341018526304  341.4938  32.876186   999999.0 ...     1       S 0.11158632\n",
       "39637341018526640 341.51083   32.90156   999999.0 ...     1       S 0.11158632"
      ]
     },
     "execution_count": 26,
     "metadata": {},
     "output_type": "execute_result"
    }
   ],
   "source": [
    "data"
   ]
  },
  {
   "cell_type": "code",
   "execution_count": 27,
   "metadata": {
    "tags": []
   },
   "outputs": [],
   "source": [
    "# namin_ref = '/global/cfs/cdirs/desi/survey/catalogs/main/mocks/FAemu_preliminary/sikandar/Updated_Code_CFC/fof_v1.0/in/prepped_LRG_EZmock_forFAemu_m1.dat'\n",
    "\n",
    "# data = ascii.read(namin_ref, format='no_header')\n",
    "RA = np.array(data[\"RA\"])\n",
    "dec = np.array(data[\"DEC\"])\n",
    "truez = np.array(data[\"TRUEZ\"])\n",
    "rsdz = np.array(data[\"RSDZ\"])\n",
    "#DESI_target = np.array(data[\"col5\"])\n",
    "#rchmsk = np.array(data[\"col6\"])\n",
    "#selmsk = np.array(data[\"col7\"])\n",
    "ntile = np.array(data[\"NTILE\"])\n",
    "#gcap = np.array(data[\"col9\"])\n",
    "#ntgal = np.array(data[\"col10\"])\n",
    "#comp = np.array(data[\"col11\"])\n",
    "targetid = np.array(data[\"TARGETID\"])"
   ]
  },
  {
   "cell_type": "code",
   "execution_count": 19,
   "metadata": {
    "tags": []
   },
   "outputs": [],
   "source": [
    "# namin_ref = '/global/cfs/cdirs/desi/survey/catalogs/main/mocks/FAemu_preliminary/sikandar/Updated_Code_CFC/fof_v1.0/in/prepped_LRG_EZmock_forFAemu_m1.dat'\n",
    "\n",
    "# data = ascii.read(namin_ref, format='no_header')\n",
    "RA = np.array(data[\"col1\"])\n",
    "dec = np.array(data[\"col2\"])\n",
    "truez = np.array(data[\"col3\"])\n",
    "rsdz = np.array(data[\"col4\"])\n",
    "#DESI_target = np.array(data[\"col5\"])\n",
    "#rchmsk = np.array(data[\"col6\"])\n",
    "#selmsk = np.array(data[\"col7\"])\n",
    "ntile = np.array(data[\"col8\"])\n",
    "#gcap = np.array(data[\"col9\"])\n",
    "#ntgal = np.array(data[\"col10\"])\n",
    "#comp = np.array(data[\"col11\"])\n",
    "targetid = np.array(data[\"col10\"])"
   ]
  },
  {
   "cell_type": "code",
   "execution_count": 22,
   "metadata": {
    "tags": []
   },
   "outputs": [
    {
     "data": {
      "text/html": [
       "<div><i>Table length=22446386</i>\n",
       "<table id=\"table140655468819648\" class=\"table-striped table-bordered table-condensed\">\n",
       "<thead><tr><th>col1</th><th>col2</th><th>col3</th><th>col4</th><th>col5</th><th>col6</th><th>col7</th><th>col8</th><th>col9</th><th>col10</th><th>col11</th></tr></thead>\n",
       "<thead><tr><th>float64</th><th>float64</th><th>float64</th><th>float64</th><th>int64</th><th>str4</th><th>str5</th><th>float64</th><th>str1</th><th>float64</th><th>float64</th></tr></thead>\n",
       "<tr><td>21.68178</td><td>-19.38721</td><td>0.83135</td><td>0.83135</td><td>1</td><td>True</td><td>True</td><td>1.0</td><td>S</td><td>1.0</td><td>0.33353</td></tr>\n",
       "<tr><td>21.69711</td><td>-19.39511</td><td>999999.0</td><td>999999.0</td><td>1</td><td>True</td><td>False</td><td>1.0</td><td>S</td><td>1.0</td><td>0.33353</td></tr>\n",
       "<tr><td>21.74635</td><td>-19.41519</td><td>999999.0</td><td>999999.0</td><td>1</td><td>True</td><td>False</td><td>1.0</td><td>S</td><td>1.0</td><td>0.33353</td></tr>\n",
       "<tr><td>21.76132</td><td>-19.42286</td><td>0.55897</td><td>0.55897</td><td>1</td><td>True</td><td>True</td><td>1.0</td><td>S</td><td>1.0</td><td>0.33353</td></tr>\n",
       "<tr><td>21.81457</td><td>-19.385</td><td>999999.0</td><td>999999.0</td><td>1</td><td>True</td><td>False</td><td>1.0</td><td>S</td><td>1.0</td><td>0.33353</td></tr>\n",
       "<tr><td>21.81768</td><td>-19.39282</td><td>0.79749</td><td>0.79749</td><td>1</td><td>True</td><td>True</td><td>1.0</td><td>S</td><td>1.0</td><td>0.33353</td></tr>\n",
       "<tr><td>21.84038</td><td>-19.39883</td><td>999999.0</td><td>999999.0</td><td>1</td><td>True</td><td>False</td><td>1.0</td><td>S</td><td>1.0</td><td>0.33353</td></tr>\n",
       "<tr><td>21.84685</td><td>-19.43136</td><td>999999.0</td><td>999999.0</td><td>1</td><td>True</td><td>False</td><td>1.0</td><td>S</td><td>1.0</td><td>0.33353</td></tr>\n",
       "<tr><td>21.85648</td><td>-19.40372</td><td>0.79863</td><td>0.79863</td><td>1</td><td>True</td><td>True</td><td>1.0</td><td>S</td><td>1.0</td><td>0.33353</td></tr>\n",
       "<tr><td>21.86771</td><td>-19.38487</td><td>0.83406</td><td>0.83406</td><td>1</td><td>True</td><td>True</td><td>1.0</td><td>S</td><td>1.0</td><td>0.33353</td></tr>\n",
       "<tr><td>...</td><td>...</td><td>...</td><td>...</td><td>...</td><td>...</td><td>...</td><td>...</td><td>...</td><td>...</td><td>...</td></tr>\n",
       "<tr><td>341.36398</td><td>32.87539</td><td>999999.0</td><td>999999.0</td><td>34</td><td>True</td><td>False</td><td>1.0</td><td>S</td><td>1.0</td><td>0.11159</td></tr>\n",
       "<tr><td>341.36942</td><td>32.88448</td><td>999999.0</td><td>999999.0</td><td>34</td><td>True</td><td>False</td><td>1.0</td><td>S</td><td>1.0</td><td>0.11159</td></tr>\n",
       "<tr><td>341.37251</td><td>32.92805</td><td>999999.0</td><td>999999.0</td><td>34</td><td>True</td><td>False</td><td>1.0</td><td>S</td><td>1.0</td><td>0.11159</td></tr>\n",
       "<tr><td>341.37463</td><td>32.89052</td><td>999999.0</td><td>999999.0</td><td>34</td><td>True</td><td>False</td><td>1.0</td><td>S</td><td>1.0</td><td>0.11159</td></tr>\n",
       "<tr><td>341.37552</td><td>32.93582</td><td>999999.0</td><td>999999.0</td><td>34</td><td>True</td><td>False</td><td>1.0</td><td>S</td><td>1.0</td><td>0.11159</td></tr>\n",
       "<tr><td>341.37868</td><td>32.88092</td><td>999999.0</td><td>999999.0</td><td>34</td><td>True</td><td>False</td><td>1.0</td><td>S</td><td>1.0</td><td>0.11159</td></tr>\n",
       "<tr><td>341.46241</td><td>32.87797</td><td>1.03038</td><td>1.03038</td><td>34</td><td>True</td><td>True</td><td>1.0</td><td>S</td><td>1.0</td><td>0.11159</td></tr>\n",
       "<tr><td>341.48856</td><td>32.89491</td><td>999999.0</td><td>999999.0</td><td>34</td><td>True</td><td>False</td><td>1.0</td><td>S</td><td>1.0</td><td>0.11159</td></tr>\n",
       "<tr><td>341.49381</td><td>32.87619</td><td>999999.0</td><td>999999.0</td><td>34</td><td>True</td><td>False</td><td>1.0</td><td>S</td><td>1.0</td><td>0.11159</td></tr>\n",
       "<tr><td>341.51085</td><td>32.90156</td><td>999999.0</td><td>999999.0</td><td>34</td><td>True</td><td>False</td><td>1.0</td><td>S</td><td>1.0</td><td>0.11159</td></tr>\n",
       "</table></div>"
      ],
      "text/plain": [
       "<Table length=22446386>\n",
       "   col1      col2     col3     col4    col5 ...   col8  col9  col10   col11 \n",
       " float64   float64  float64  float64  int64 ... float64 str1 float64 float64\n",
       "--------- --------- -------- -------- ----- ... ------- ---- ------- -------\n",
       " 21.68178 -19.38721  0.83135  0.83135     1 ...     1.0    S     1.0 0.33353\n",
       " 21.69711 -19.39511 999999.0 999999.0     1 ...     1.0    S     1.0 0.33353\n",
       " 21.74635 -19.41519 999999.0 999999.0     1 ...     1.0    S     1.0 0.33353\n",
       " 21.76132 -19.42286  0.55897  0.55897     1 ...     1.0    S     1.0 0.33353\n",
       " 21.81457   -19.385 999999.0 999999.0     1 ...     1.0    S     1.0 0.33353\n",
       " 21.81768 -19.39282  0.79749  0.79749     1 ...     1.0    S     1.0 0.33353\n",
       " 21.84038 -19.39883 999999.0 999999.0     1 ...     1.0    S     1.0 0.33353\n",
       " 21.84685 -19.43136 999999.0 999999.0     1 ...     1.0    S     1.0 0.33353\n",
       " 21.85648 -19.40372  0.79863  0.79863     1 ...     1.0    S     1.0 0.33353\n",
       " 21.86771 -19.38487  0.83406  0.83406     1 ...     1.0    S     1.0 0.33353\n",
       "      ...       ...      ...      ...   ... ...     ...  ...     ...     ...\n",
       "341.36398  32.87539 999999.0 999999.0    34 ...     1.0    S     1.0 0.11159\n",
       "341.36942  32.88448 999999.0 999999.0    34 ...     1.0    S     1.0 0.11159\n",
       "341.37251  32.92805 999999.0 999999.0    34 ...     1.0    S     1.0 0.11159\n",
       "341.37463  32.89052 999999.0 999999.0    34 ...     1.0    S     1.0 0.11159\n",
       "341.37552  32.93582 999999.0 999999.0    34 ...     1.0    S     1.0 0.11159\n",
       "341.37868  32.88092 999999.0 999999.0    34 ...     1.0    S     1.0 0.11159\n",
       "341.46241  32.87797  1.03038  1.03038    34 ...     1.0    S     1.0 0.11159\n",
       "341.48856  32.89491 999999.0 999999.0    34 ...     1.0    S     1.0 0.11159\n",
       "341.49381  32.87619 999999.0 999999.0    34 ...     1.0    S     1.0 0.11159\n",
       "341.51085  32.90156 999999.0 999999.0    34 ...     1.0    S     1.0 0.11159"
      ]
     },
     "execution_count": 22,
     "metadata": {},
     "output_type": "execute_result"
    }
   ],
   "source": [
    "data"
   ]
  },
  {
   "cell_type": "markdown",
   "metadata": {},
   "source": [
    "## Writing output"
   ]
  },
  {
   "cell_type": "code",
   "execution_count": 28,
   "metadata": {
    "tags": []
   },
   "outputs": [],
   "source": [
    "#targetid = np.arange(1, len(RA)+1, dtype=int)\n",
    "\n",
    "#namout_tot = '/global/cfs/cdirs/desi/survey/catalogs/main/mocks/FAemu_preliminary/sikandar/Updated_Code_CFC/emulate_bitw_v1.1/out/EZOutputs_TrainedOnData/Catalogs_With_Weights/prepped_EZ_corr_clustering_cat_FAemu_m1_N_LRG_llen0.02_truent_cfc.fits'\n",
    "namout_tot = '/pscratch/sd/s/sikandar/Dragan_Cats_Data/ready_to_join_lrg.fits'\n",
    "col1 = fits.Column(name='TARGETID', array=targetid[id_msk_obs], format='K')\n",
    "col2 = fits.Column(name='RA', array=RA[id_msk_obs], format='E')\n",
    "col3 = fits.Column(name='DEC', array=dec[id_msk_obs], format='E')\n",
    "col4 = fits.Column(name='TRUEZ', array=truez[id_msk_obs], format='E')\n",
    "col5 = fits.Column(name='RSDZ', array=rsdz[id_msk_obs], format='E')\n",
    "col6 = fits.Column(name='NTILE', array=ntile[id_msk_obs], format='K')\n",
    "col7 = fits.Column(name='WEIGHT_IIP', array=wiip[id_msk_obs], format='E')\n",
    "col8 = fits.Column(name='BITWEIGHT', array=we_out[id_msk_obs], dim='4', format='4K')\n",
    "#col8 = fits.Column(name='DESI_TARGET', array=DESI_target[id_msk_obs], format='K')\n",
    "#col9 = fits.Column(name='TRUEZ', array=truez[id_msk_obs], format='E')\n",
    "#col10 = fits.Column(name='RCH_MASK', array=rchmsk[id_msk_obs], format='L')\n",
    "#col11 = fits.Column(name='SEL_MASK', array=selmsk[id_msk_obs], format='L')\n",
    "#col12 = fits.Column(name='GAL_CAP', array=gcap[id_msk_obs], format='A')\n",
    "\n",
    "tbl = fits.BinTableHDU.from_columns([col1, col2, col3, col4, col5, col6, col7, col8])\n",
    "\n",
    "tbl.writeto(namout_tot, overwrite=True)"
   ]
  },
  {
   "cell_type": "code",
   "execution_count": 74,
   "metadata": {
    "tags": []
   },
   "outputs": [
    {
     "name": "stdout",
     "output_type": "stream",
     "text": [
      "Filename: /global/cfs/cdirs/desi/survey/catalogs/main/mocks/FAemu_preliminary/sikandar/Updated_Code_CFC/emulate_bitw_v1.1/out/EZOutputs_TrainedOnData/Catalogs_With_Weights/prepped_EZ_corr_clustering_cat_FAemu_m1_N_LRG_llen0.02_truent_cfc.fits\n",
      "No.    Name      Ver    Type      Cards   Dimensions   Format\n",
      "  0  PRIMARY       1 PrimaryHDU       4   ()      \n",
      "  1                1 BinTableHDU     25   2742155R x 8C   [K, E, E, E, E, K, E, 4K]   \n"
     ]
    },
    {
     "data": {
      "text/plain": [
       "XTENSION= 'BINTABLE'           / binary table extension                         \n",
       "BITPIX  =                    8 / array data type                                \n",
       "NAXIS   =                    2 / number of array dimensions                     \n",
       "NAXIS1  =                   68 / length of dimension 1                          \n",
       "NAXIS2  =              2742155 / length of dimension 2                          \n",
       "PCOUNT  =                    0 / number of group parameters                     \n",
       "GCOUNT  =                    1 / number of groups                               \n",
       "TFIELDS =                    8 / number of table fields                         \n",
       "TTYPE1  = 'TARGETID'                                                            \n",
       "TFORM1  = 'K       '                                                            \n",
       "TTYPE2  = 'RA      '                                                            \n",
       "TFORM2  = 'E       '                                                            \n",
       "TTYPE3  = 'DEC     '                                                            \n",
       "TFORM3  = 'E       '                                                            \n",
       "TTYPE4  = 'TRUEZ   '                                                            \n",
       "TFORM4  = 'E       '                                                            \n",
       "TTYPE5  = 'RSDZ    '                                                            \n",
       "TFORM5  = 'E       '                                                            \n",
       "TTYPE6  = 'NTILE   '                                                            \n",
       "TFORM6  = 'K       '                                                            \n",
       "TTYPE7  = 'WEIGHT_IIP'                                                          \n",
       "TFORM7  = 'E       '                                                            \n",
       "TTYPE8  = 'BITWEIGHT'                                                           \n",
       "TFORM8  = '4K      '                                                            \n",
       "TDIM8   = '4       '                                                            "
      ]
     },
     "execution_count": 74,
     "metadata": {},
     "output_type": "execute_result"
    }
   ],
   "source": [
    "namin_test = namout_tot\n",
    "\n",
    "hdul = fits.open(namin_test)\n",
    "hdul.info()\n",
    "hdul[1].header"
   ]
  },
  {
   "cell_type": "code",
   "execution_count": 75,
   "metadata": {
    "tags": []
   },
   "outputs": [
    {
     "name": "stdout",
     "output_type": "stream",
     "text": [
      "(2742155,)\n",
      "(2742155, 4)\n",
      "[23085319 23085320 23085322 ... 28719363 28719365 28719370]\n",
      "[1.5670732 1.0753138 3.7794118 ... 2.8241758 3.1728394 3.3376622]\n",
      "[[-8746962483312854040   -74964964802572883  3206173173884104694\n",
      "   6799558823193179802]\n",
      " [   -4503599627436033 -2314852957253804065      -43980735643649\n",
      "     -4503599778365443]\n",
      " [ 2596923604348174598   482307879958004282  1441877696040010648\n",
      "   1801445376458885636]\n",
      " ...\n",
      " [ 6125014377943556160  5801974580616919877  5287874271928129100\n",
      "   3548318087714011467]\n",
      " [  180781852240576919  5693425748013818537  1524610353957406784\n",
      "   6165723108745692706]\n",
      " [ 4688423705556031928 -4611594131844101987 -8900801642582467546\n",
      "   2902834667809931414]]\n"
     ]
    }
   ],
   "source": [
    "data_test = hdul[1].data\n",
    "#print(data_test)\n",
    "print(np.shape(data_test['RA']))\n",
    "print(np.shape(data_test['BITWEIGHT']))\n",
    "print(data_test['TARGETID'])\n",
    "print(data_test['WEIGHT_IIP'])\n",
    "print(data_test['BITWEIGHT'])"
   ]
  },
  {
   "cell_type": "code",
   "execution_count": null,
   "metadata": {
    "tags": []
   },
   "outputs": [],
   "source": []
  },
  {
   "cell_type": "code",
   "execution_count": 76,
   "metadata": {
    "tags": []
   },
   "outputs": [
    {
     "data": {
      "text/plain": [
       "(2742155,)"
      ]
     },
     "execution_count": 76,
     "metadata": {},
     "output_type": "execute_result"
    }
   ],
   "source": [
    "np.shape(data_test['WEIGHT_IIP'])"
   ]
  },
  {
   "cell_type": "code",
   "execution_count": 78,
   "metadata": {
    "tags": []
   },
   "outputs": [
    {
     "data": {
      "text/html": [
       "<div><i>Table length=2742155</i>\n",
       "<table id=\"table140323665449104\" class=\"table-striped table-bordered table-condensed\">\n",
       "<thead><tr><th>TARGETID</th><th>RA</th><th>DEC</th><th>TRUEZ</th><th>RSDZ</th><th>NTILE</th><th>WEIGHT_IIP</th><th>BITWEIGHT</th></tr></thead>\n",
       "<thead><tr><th>int64</th><th>float32</th><th>float32</th><th>float32</th><th>float32</th><th>int64</th><th>float32</th><th>int64[4]</th></tr></thead>\n",
       "<tr><td>23085319</td><td>108.67783</td><td>39.4152</td><td>0.34538</td><td>0.34598</td><td>2</td><td>1.5670732</td><td>-8746962483312854040 .. 6799558823193179802</td></tr>\n",
       "<tr><td>23085320</td><td>122.84471</td><td>13.28696</td><td>0.40755</td><td>0.40656</td><td>4</td><td>1.0753138</td><td>-4503599627436033 .. -4503599778365443</td></tr>\n",
       "<tr><td>23085322</td><td>132.96414</td><td>48.99376</td><td>0.34964</td><td>0.35188</td><td>1</td><td>3.7794118</td><td>2596923604348174598 .. 1801445376458885636</td></tr>\n",
       "<tr><td>23085324</td><td>123.83426</td><td>45.26883</td><td>0.4198</td><td>0.41705</td><td>1</td><td>3.7246377</td><td>36038693697720448 .. 5517210311566557444</td></tr>\n",
       "<tr><td>23085325</td><td>143.39099</td><td>59.30397</td><td>0.40138</td><td>0.40132</td><td>1</td><td>2.4711537</td><td>6926959351039774217 .. -6964778039728518548</td></tr>\n",
       "<tr><td>23085329</td><td>116.7849</td><td>18.93346</td><td>0.3563</td><td>0.35716</td><td>3</td><td>1.1524664</td><td>9187343153928076798 .. -360430908318680065</td></tr>\n",
       "<tr><td>23085333</td><td>115.55582</td><td>23.75672</td><td>0.44244</td><td>0.4423</td><td>2</td><td>1.6163522</td><td>-591834554801918927 .. -7512411144870511076</td></tr>\n",
       "<tr><td>23085335</td><td>114.43008</td><td>44.8932</td><td>0.3932</td><td>0.39419</td><td>3</td><td>1.1173913</td><td>-576460754451496961 .. -612507141508956289</td></tr>\n",
       "<tr><td>23085336</td><td>149.95845</td><td>36.56128</td><td>0.40932</td><td>0.40784</td><td>2</td><td>1.3891892</td><td>-767265616120842241 .. -2306265221864362255</td></tr>\n",
       "<tr><td>23085338</td><td>120.03739</td><td>17.8028</td><td>0.44838</td><td>0.44997</td><td>3</td><td>1.1524664</td><td>-653021946037993477 .. -2309225113423184003</td></tr>\n",
       "<tr><td>...</td><td>...</td><td>...</td><td>...</td><td>...</td><td>...</td><td>...</td><td>...</td></tr>\n",
       "<tr><td>28719345</td><td>328.73026</td><td>-11.42953</td><td>0.29522</td><td>0.29636</td><td>1</td><td>2.0725806</td><td>1759090262565286963 .. -11242355448484875</td></tr>\n",
       "<tr><td>28719348</td><td>328.50073</td><td>-1.23163</td><td>0.26466</td><td>0.26329</td><td>2</td><td>1.3891892</td><td>-1333684714635004689 .. -94787283064034434</td></tr>\n",
       "<tr><td>28719352</td><td>329.19165</td><td>-0.66658</td><td>0.33359</td><td>0.33455</td><td>1</td><td>3.2948718</td><td>3535383474864146544 .. 4657936598209564700</td></tr>\n",
       "<tr><td>28719355</td><td>329.10214</td><td>-0.42842</td><td>0.32011</td><td>0.31926</td><td>2</td><td>1.2415459</td><td>-14356357687803921 .. -1154051837998487565</td></tr>\n",
       "<tr><td>28719356</td><td>328.94904</td><td>-0.50406</td><td>0.31618</td><td>0.31562</td><td>2</td><td>1.4043716</td><td>-92562475114561701 .. 4611610976550948333</td></tr>\n",
       "<tr><td>28719357</td><td>328.92316</td><td>-0.94346</td><td>0.26573</td><td>0.26339</td><td>1</td><td>2.294643</td><td>-2108385799688008309 .. -7479859767917698264</td></tr>\n",
       "<tr><td>28719361</td><td>329.51596</td><td>-0.04864</td><td>0.35795</td><td>0.35929</td><td>3</td><td>1.502924</td><td>-886790528791767685 .. -432367677893252101</td></tr>\n",
       "<tr><td>28719363</td><td>329.5637</td><td>-7.60748</td><td>0.34398</td><td>0.34398</td><td>1</td><td>2.8241758</td><td>6125014377943556160 .. 3548318087714011467</td></tr>\n",
       "<tr><td>28719365</td><td>329.56982</td><td>-0.09624</td><td>0.33824</td><td>0.33864</td><td>2</td><td>3.1728394</td><td>180781852240576919 .. 6165723108745692706</td></tr>\n",
       "<tr><td>28719370</td><td>329.84842</td><td>-10.9252</td><td>0.31716</td><td>0.3153</td><td>1</td><td>3.3376622</td><td>4688423705556031928 .. 2902834667809931414</td></tr>\n",
       "</table></div>"
      ],
      "text/plain": [
       "<Table length=2742155>\n",
       "TARGETID     RA    ... WEIGHT_IIP                  BITWEIGHT                  \n",
       " int64    float32  ...  float32                     int64[4]                  \n",
       "-------- --------- ... ---------- --------------------------------------------\n",
       "23085319 108.67783 ...  1.5670732  -8746962483312854040 .. 6799558823193179802\n",
       "23085320 122.84471 ...  1.0753138       -4503599627436033 .. -4503599778365443\n",
       "23085322 132.96414 ...  3.7794118   2596923604348174598 .. 1801445376458885636\n",
       "23085324 123.83426 ...  3.7246377     36038693697720448 .. 5517210311566557444\n",
       "23085325 143.39099 ...  2.4711537  6926959351039774217 .. -6964778039728518548\n",
       "23085329  116.7849 ...  1.1524664   9187343153928076798 .. -360430908318680065\n",
       "23085333 115.55582 ...  1.6163522  -591834554801918927 .. -7512411144870511076\n",
       "23085335 114.43008 ...  1.1173913   -576460754451496961 .. -612507141508956289\n",
       "23085336 149.95845 ...  1.3891892  -767265616120842241 .. -2306265221864362255\n",
       "23085338 120.03739 ...  1.1524664  -653021946037993477 .. -2309225113423184003\n",
       "     ...       ... ...        ...                                          ...\n",
       "28719345 328.73026 ...  2.0725806    1759090262565286963 .. -11242355448484875\n",
       "28719348 328.50073 ...  1.3891892   -1333684714635004689 .. -94787283064034434\n",
       "28719352 329.19165 ...  3.2948718   3535383474864146544 .. 4657936598209564700\n",
       "28719355 329.10214 ...  1.2415459   -14356357687803921 .. -1154051837998487565\n",
       "28719356 328.94904 ...  1.4043716    -92562475114561701 .. 4611610976550948333\n",
       "28719357 328.92316 ...   2.294643 -2108385799688008309 .. -7479859767917698264\n",
       "28719361 329.51596 ...   1.502924   -886790528791767685 .. -432367677893252101\n",
       "28719363  329.5637 ...  2.8241758   6125014377943556160 .. 3548318087714011467\n",
       "28719365 329.56982 ...  3.1728394    180781852240576919 .. 6165723108745692706\n",
       "28719370 329.84842 ...  3.3376622   4688423705556031928 .. 2902834667809931414"
      ]
     },
     "execution_count": 78,
     "metadata": {},
     "output_type": "execute_result"
    }
   ],
   "source": [
    "Table(data_test)"
   ]
  },
  {
   "cell_type": "code",
   "execution_count": null,
   "metadata": {
    "tags": []
   },
   "outputs": [],
   "source": []
  },
  {
   "cell_type": "code",
   "execution_count": null,
   "metadata": {
    "tags": []
   },
   "outputs": [],
   "source": []
  },
  {
   "cell_type": "code",
   "execution_count": null,
   "metadata": {},
   "outputs": [],
   "source": []
  },
  {
   "cell_type": "code",
   "execution_count": null,
   "metadata": {},
   "outputs": [],
   "source": []
  }
 ],
 "metadata": {
  "kernelspec": {
   "display_name": "cosmodesi-main",
   "language": "python",
   "name": "cosmodesi-main"
  },
  "language_info": {
   "codemirror_mode": {
    "name": "ipython",
    "version": 3
   },
   "file_extension": ".py",
   "mimetype": "text/x-python",
   "name": "python",
   "nbconvert_exporter": "python",
   "pygments_lexer": "ipython3",
   "version": "3.10.12"
  }
 },
 "nbformat": 4,
 "nbformat_minor": 4
}
