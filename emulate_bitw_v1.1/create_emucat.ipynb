{
 "cells": [
  {
   "cell_type": "markdown",
   "metadata": {},
   "source": [
    "# Convertes the output of emulate_bitw into a standard fits catalogue  "
   ]
  },
  {
   "cell_type": "code",
   "execution_count": 1,
   "metadata": {
    "tags": []
   },
   "outputs": [],
   "source": [
    "from matplotlib import pyplot as plt\n",
    "from astropy.io import (fits, ascii)\n",
    "import numpy as np\n",
    "from numpy.random import default_rng\n",
    "import pickle"
   ]
  },
  {
   "cell_type": "markdown",
   "metadata": {},
   "source": [
    "## Reading the bitweights (fortran binary)"
   ]
  },
  {
   "cell_type": "code",
   "execution_count": 37,
   "metadata": {
    "tags": []
   },
   "outputs": [
    {
     "name": "stdout",
     "output_type": "stream",
     "text": [
      "npart = 4818724\n",
      "(4818724, 9)\n",
      "[[1898812711 1614639191 1729246472 ...  202428962  615225057  293933099]\n",
      " [ 437821954 1258797440    1346558 ...  306827297 1401358337 1636896266]\n",
      " [1119105515 1007975088  539038304 ...  713146487 1346538828  118452953]\n",
      " ...\n",
      " [ 108168244 1490177739      34304 ... 1412637760  344658714   12735200]\n",
      " [ 875909523 1946239242  579851878 ... 1113231745 1577623186  572099603]\n",
      " [1145114969  537143584  573129216 ...  154194024 1638096898  622625304]]\n"
     ]
    }
   ],
   "source": [
    "nwe = 9\n",
    "\n",
    "from scipy.io import FortranFile\n",
    "\n",
    "#namin_fbw = '/global/cfs/cdirs/desi/survey/catalogs/main/mocks/FAemu_preliminary/emulate_bitw_v1.1/out/FAemu_m0_N_ELG_llen0.02_truent_antico_deco0.1_beta0_cfc_nbits279_wemu_unformatted.dat' \n",
    "#namin_fbw = '/global/cfs/cdirs/desi/survey/catalogs/main/mocks/FAemu_preliminary/sikandar/Updated_Code_CFC/emulate_bitw_v1.1/out/EZOutputs_TrainedOnData/EZ_FAemu_m1_B_QSO_llen0.02_truent_cfc_antico_deco0.1_beta0_nbits279_wemu_unformatted.dat'\n",
    "#namin_fbw = '/global/cfs/cdirs/desi/survey/catalogs/main/mocks/FAemu_preliminary/sikandar/Updated_Code_CFC/emulate_bitw_v1.1/out/old_outputs/EZoutprepped_new/EZ_FAemu_m1_N_QSO_llen0.02_truent_cfc_antico_deco0.1_beta0_nbits279_wemu_unformatted.dat'\n",
    "#namin_fbw = '/global/cfs/cdirs/desi/survey/catalogs/main/mocks/FAemu_preliminary/sikandar/Updated_Code_CFC/emulate_bitw_v1.1/out/EZOutputs_TrainedOnData/EZ_FAemu_m1_B_QSO_llen0.02_truent_cfc_antico_deco0.1_beta0_nbits279_wemu_unformatted.dat'\n",
    "namin_fbw = '/global/cfs/cdirs/desi/survey/catalogs/main/mocks/FAemu_preliminary/sikandar/Updated_Code_CFC/emulate_bitw_v1.1/out/EZOutputs_TrainedOnData/EZ_FAemu_m1_B_LRG_llen0.02_truent_cfc_antico_deco0.1_beta0_nbits279_wemu_unformatted.dat'\n",
    "\n",
    "f = FortranFile(namin_fbw, 'r')\n",
    "we = f.read_ints(dtype='int32')\n",
    "#print(np.shape(we))\n",
    "\n",
    "npart = np.shape(we)[0]//nwe\n",
    "print('npart =', npart)\n",
    "we = we.reshape((nwe, npart)).T;\n",
    "print(np.shape(we))\n",
    "\n",
    "print(we)"
   ]
  },
  {
   "cell_type": "code",
   "execution_count": null,
   "metadata": {
    "tags": []
   },
   "outputs": [],
   "source": []
  },
  {
   "cell_type": "markdown",
   "metadata": {},
   "source": [
    "# Fuctions to pack-unpack bitweights in different formats"
   ]
  },
  {
   "cell_type": "code",
   "execution_count": 38,
   "metadata": {
    "tags": []
   },
   "outputs": [],
   "source": [
    "def pack_bitweights(array):\n",
    "    \"\"\"\n",
    "    Creates an array of bitwise weights stored as 64-bit signed integers\n",
    "    Input: a 2D boolean array of shape (Ngal, Nreal), where Ngal is the total number \n",
    "           of target galaxies, and Nreal is the number of fibre assignment realizations.\n",
    "    Output: returns a 2D array of 64-bit signed integers. \n",
    "    \"\"\"\n",
    "    Nbits=64\n",
    "    dtype=np.int64\n",
    "    Ngal, Nreal = array.shape           # total number of realizations and number of target galaxies\n",
    "    Nout = (Nreal + Nbits - 1) // Nbits # number of output columns\n",
    "    # intermediate arrays\n",
    "    bitw8 = np.zeros((Ngal, 8), dtype=\"i\")   # array of individual bits of 8 realizations\n",
    "    bitweights = np.zeros(Ngal, dtype=dtype) # array of 64-bit integers\n",
    "    # array to store final output\n",
    "    output_array = np.zeros((Ngal, Nout), dtype=dtype)\n",
    "    idx_out = 0 # initial column in output_array\n",
    "    # loop through realizations to build bitwise weights\n",
    "    for i in range(Nreal):\n",
    "        bitw8[array[:,i], i%8] = 1\n",
    "        arr = np.array(np.packbits(bitw8[:,::-1]), dtype=dtype)\n",
    "        bitweights = np.bitwise_or(bitweights, np.left_shift(arr, 8*((i%Nbits)//8)))\n",
    "        #print(np.binary_repr(bitweights[0]), bitweights[0])\n",
    "        if (i+1)%Nbits == 0 or i+1 == Nreal:\n",
    "            output_array[:,idx_out] = bitweights\n",
    "            bitweights[:] = 0\n",
    "            idx_out += 1\n",
    "        if (i+1)%8 == 0:\n",
    "            bitw8[:] = 0\n",
    "    return output_array"
   ]
  },
  {
   "cell_type": "code",
   "execution_count": 39,
   "metadata": {
    "tags": []
   },
   "outputs": [],
   "source": [
    "def unpack_bitweights(we):\n",
    "    Nbits = 64\n",
    "    Ngal, Nwe = np.shape(we)\n",
    "    Nreal = Nbits*Nwe\n",
    "    print('Nbits, Nwe = ',Nbits,Nwe)\n",
    "    print('Nreal = ',Nreal)\n",
    "    print('Ngal = ',Ngal)\n",
    "    true8=[np.uint8(255) for n in range(0, Ngal)]\n",
    "    array_bool = np.zeros((Ngal,Nreal), dtype=bool)\n",
    "    for j in range(Nwe):\n",
    "        lg = np.zeros((Ngal, Nbits), dtype=bool)\n",
    "        for i in range(Nbits//8):\n",
    "            chunk8 = np.uint8(np.bitwise_and(np.right_shift(we[:,j],8*i), true8))\n",
    "            lg[:,Nbits-8*(i+1):Nbits-i*8] = np.reshape(np.unpackbits(chunk8), (Ngal, 8))\n",
    "        array_bool[:,j*Nbits:(j+1)*Nbits] = lg[:,::-1]\n",
    "    return array_bool"
   ]
  },
  {
   "cell_type": "code",
   "execution_count": 40,
   "metadata": {
    "tags": []
   },
   "outputs": [],
   "source": [
    "def pack_bitweights_BP2017(array):\n",
    "    Nbits = 31\n",
    "    Nwe = np.shape(array)[1]//Nbits\n",
    "    Nreal = Nwe*Nbits\n",
    "    Ngal = np.shape(array)[0]\n",
    "    print('Nbits, Nwe = ',Nbits,Nwe)\n",
    "    print('Nreal = ',Nreal)\n",
    "    print('Ngal = ',Ngal)\n",
    "    we = np.zeros((Ngal, Nwe), dtype=np.int32)\n",
    "    for i in range(Nreal):\n",
    "        k = i % Nbits\n",
    "        m = i // Nbits\n",
    "        we[array[:,i], m] += 2**k        \n",
    "    return we"
   ]
  },
  {
   "cell_type": "code",
   "execution_count": 41,
   "metadata": {
    "tags": []
   },
   "outputs": [],
   "source": [
    "def unpack_bitweights_BP2017(we):\n",
    "    \n",
    "    Nbits = 31\n",
    "    Ngal, Nwe = np.shape(we)\n",
    "    Nreal = Nbits*Nwe\n",
    "    print('Nbits, Nwe = ',Nbits,Nwe)\n",
    "    print('Nreal = ',Nreal)\n",
    "    print('Ngal = ',Ngal)    \n",
    "    \n",
    "    array_bool = np.zeros((Ngal, Nreal), dtype=bool)\n",
    "    for i in range(0, Ngal):\n",
    "        for j in range(0, Nwe):\n",
    "            lg = bin(we[i][j])[2:]\n",
    "            lg = lg[::-1]+(Nbits-len(lg))*'0'\n",
    "            lg = np.array([int(digit) for digit in lg], dtype=bool)\n",
    "            array_bool[i,j*Nbits:(j+1)*Nbits] = lg\n",
    "      \n",
    "    return array_bool"
   ]
  },
  {
   "cell_type": "markdown",
   "metadata": {},
   "source": [
    "## Unpacking bitweights"
   ]
  },
  {
   "cell_type": "code",
   "execution_count": 42,
   "metadata": {
    "tags": []
   },
   "outputs": [
    {
     "name": "stdout",
     "output_type": "stream",
     "text": [
      "Nbits, Nwe =  31 9\n",
      "Nreal =  279\n",
      "Ngal =  4818724\n"
     ]
    }
   ],
   "source": [
    "bool_tot = unpack_bitweights_BP2017(we)"
   ]
  },
  {
   "cell_type": "code",
   "execution_count": 54,
   "metadata": {},
   "outputs": [
    {
     "data": {
      "text/plain": [
       "array([[ True,  True,  True, ...,  True, False, False],\n",
       "       [False,  True, False, ..., False,  True,  True],\n",
       "       [ True,  True, False, ..., False, False, False],\n",
       "       ...,\n",
       "       [False, False,  True, ..., False, False, False],\n",
       "       [ True,  True, False, ..., False,  True, False],\n",
       "       [ True, False, False, ..., False,  True, False]])"
      ]
     },
     "execution_count": 54,
     "metadata": {},
     "output_type": "execute_result"
    }
   ],
   "source": [
    "bool_tot"
   ]
  },
  {
   "cell_type": "code",
   "execution_count": 43,
   "metadata": {
    "tags": []
   },
   "outputs": [],
   "source": [
    "namout_bool = 'out/emucat_out/ezm1_LRG_B_bool_tot_datatrain.bin'"
   ]
  },
  {
   "cell_type": "markdown",
   "metadata": {},
   "source": [
    "### write bool array (just for convenience, not to have to recompute it)"
   ]
  },
  {
   "cell_type": "code",
   "execution_count": 44,
   "metadata": {
    "tags": []
   },
   "outputs": [],
   "source": [
    "bool_file = open(namout_bool, 'wb')\n",
    "pickle.dump(bool_tot, bool_file)\n",
    "bool_file.close()"
   ]
  },
  {
   "cell_type": "markdown",
   "metadata": {},
   "source": [
    "### read bool array (just for convenience, in case you have already computed it)"
   ]
  },
  {
   "cell_type": "code",
   "execution_count": 55,
   "metadata": {},
   "outputs": [],
   "source": [
    "namin_bool = namout_bool\n",
    "\n",
    "bool_file = open(namin_bool, 'rb')\n",
    "bool_tot = pickle.load(bool_file)\n",
    "bool_file.close()\n",
    "\n",
    "#print(bool_tot)"
   ]
  },
  {
   "cell_type": "code",
   "execution_count": 56,
   "metadata": {},
   "outputs": [],
   "source": [
    "#bitw_test = pack_bitweights_BP2017(bool_tot)"
   ]
  },
  {
   "cell_type": "markdown",
   "metadata": {},
   "source": [
    "## Randomly extracting \"observed\" sample and alt-realisations"
   ]
  },
  {
   "cell_type": "code",
   "execution_count": 57,
   "metadata": {},
   "outputs": [
    {
     "name": "stdout",
     "output_type": "stream",
     "text": [
      "[ 84 160  97  21 251 147  22  19  39 121 199 274 273 166 110 172 184 232\n",
      "  76  52 105   4  13 178 277  88 115  92   2  99  10 175 154 157  83 155\n",
      "  41  68  28  55 146 239 261 191 186 109   1 112 168 244 214 117 238 169\n",
      "  35 258 120  79  15 163  90 171  50  65  63 124 104  71 271  54  64 250\n",
      " 206 247  45   5 118 165  72  61  32  27  38   8 176 106  57  53  82 111\n",
      "  51 237 219 150 228 267 138 253 194  24 263 221 208 122 156 255 248  40\n",
      "  91 135  89 215  20 236 243  46 278 235 216  87 145 265 269 144 218 217\n",
      " 167 225  70 211 180 101  42 234 249  96 152 193 195  74 128 136 188 140\n",
      " 242 229 231 116  12 149  11  93   3 132 143 151 241  36 210 103 127 189\n",
      " 182 164 240 276  56 190 183 209 260 159 185 275 257 161  85 227 213 187\n",
      "  23  98 125 148 141 203  75  78  37  81 226 264 162  95  30 201 158  66\n",
      " 207 220 179 134 252 254 102  17 129  49  33  69 126 272 177 108  59 173\n",
      " 142 114 202 113 233  26  60 170  47 270 119 153  29 200  73 224  16 130\n",
      " 198 139 137 174 262   0 222 197  44 196  14 259  25 246 245  80  34  48\n",
      " 212 205  94  77 192]\n"
     ]
    }
   ],
   "source": [
    "rng = default_rng()\n",
    "nsmpls_out = 64*4\n",
    "nsmpls_in = 31*9 \n",
    "id_ran = rng.choice(nsmpls_in, size=nsmpls_out+1, replace=False)\n",
    "print(id_ran)"
   ]
  },
  {
   "cell_type": "code",
   "execution_count": 58,
   "metadata": {},
   "outputs": [
    {
     "name": "stdout",
     "output_type": "stream",
     "text": [
      "[False False False ... False False False]\n",
      "2742598\n",
      "(array([      4,       5,       6, ..., 4818712, 4818713, 4818714]),)\n",
      "(1, 2742598)\n"
     ]
    }
   ],
   "source": [
    "msk_obs = bool_tot[:,id_ran[0]]\n",
    "id_msk_obs = np.where(msk_obs)\n",
    "print(msk_obs)\n",
    "print(np.sum(msk_obs))\n",
    "print(id_msk_obs)\n",
    "print(np.shape(id_msk_obs))"
   ]
  },
  {
   "cell_type": "code",
   "execution_count": null,
   "metadata": {},
   "outputs": [],
   "source": []
  },
  {
   "cell_type": "code",
   "execution_count": 59,
   "metadata": {},
   "outputs": [
    {
     "name": "stdout",
     "output_type": "stream",
     "text": [
      "(4818724, 256)\n"
     ]
    }
   ],
   "source": [
    "bool_out = bool_tot[:,id_ran[1:]]\n",
    "print(np.shape(bool_out))"
   ]
  },
  {
   "cell_type": "markdown",
   "metadata": {},
   "source": [
    "## Packing bitweights with the desired format"
   ]
  },
  {
   "cell_type": "code",
   "execution_count": 60,
   "metadata": {},
   "outputs": [
    {
     "name": "stdout",
     "output_type": "stream",
     "text": [
      "[[ 8338595168177700956 -5745720088627710328  7707715169468110452\n",
      "   2901100844497035399]\n",
      " [-3296004975781453352 -8062427805523951314  4643246572125339705\n",
      "   8480843473057431836]\n",
      " [  298432846587567116  4683971490196360967  4922266468429100127\n",
      "  -6871792564485855545]\n",
      " ...\n",
      " [  469007719275168292  5270202572198831772  2981429167184236760\n",
      "  -1250808803890162592]\n",
      " [-8843459208950364028  3198552143690001319  8431165142058503461\n",
      "   6023651125555759749]\n",
      " [    6970912319644859   630530371544680836 -7781621432344242022\n",
      "  -9204720401696536018]]\n",
      "(4818724, 4)\n"
     ]
    }
   ],
   "source": [
    "we_out = pack_bitweights(bool_out)\n",
    "#we_out = pack_bitweights_BP2017(bool_out)\n",
    "\n",
    "print(we_out)\n",
    "print(np.shape(we_out))"
   ]
  },
  {
   "cell_type": "markdown",
   "metadata": {},
   "source": [
    "## Computing IIP weights"
   ]
  },
  {
   "cell_type": "code",
   "execution_count": 61,
   "metadata": {},
   "outputs": [
    {
     "name": "stdout",
     "output_type": "stream",
     "text": [
      "npart_out = 4818724\n",
      "nbits_out = 256\n"
     ]
    }
   ],
   "source": [
    "npart_out = np.shape(we_out)[0]\n",
    "print('npart_out =', npart_out)\n",
    "\n",
    "nbits_out = np.shape(we_out)[1] * 64\n",
    "#nbits_out = np.shape(we_out)[1] * 31\n",
    "print('nbits_out =', nbits_out)\n",
    "\n",
    "wiip = np.zeros(npart, dtype=float)\n",
    "#wiip[id_msk_obs] = nbits_out / np.sum(bool_out[id_msk], axis=1)\n",
    "wiip[id_msk_obs] = (nbits_out + 1) / (np.sum(bool_out[id_msk_obs], axis=1) + 1)"
   ]
  },
  {
   "cell_type": "code",
   "execution_count": 62,
   "metadata": {},
   "outputs": [
    {
     "name": "stdout",
     "output_type": "stream",
     "text": [
      "[0. 0. 0. ... 0. 0. 0.]\n"
     ]
    },
    {
     "data": {
      "image/png": "[encoded data removed]",
      "text/plain": [
       "<Figure size 640x480 with 1 Axes>"
      ]
     },
     "metadata": {},
     "output_type": "display_data"
    }
   ],
   "source": [
    "print(wiip)\n",
    "plt.hist(wiip[id_msk_obs], np.arange(-0.5,15,0.2));"
   ]
  },
  {
   "cell_type": "code",
   "execution_count": 63,
   "metadata": {},
   "outputs": [
    {
     "data": {
      "text/plain": [
       "array([0.        , 0.        , 0.        , 0.        , 1.57668712,\n",
       "       1.07083333, 3.77941176, 0.        , 0.        , 2.4245283 ,\n",
       "       0.        ])"
      ]
     },
     "execution_count": 63,
     "metadata": {},
     "output_type": "execute_result"
    }
   ],
   "source": [
    "wiip[0:11]"
   ]
  },
  {
   "cell_type": "code",
   "execution_count": null,
   "metadata": {},
   "outputs": [],
   "source": []
  },
  {
   "cell_type": "markdown",
   "metadata": {},
   "source": [
    "## Reading galaxy positions and other quantities of interest"
   ]
  },
  {
   "cell_type": "code",
   "execution_count": 25,
   "metadata": {},
   "outputs": [],
   "source": [
    "namin_ref = '/global/cfs/cdirs/desi/survey/catalogs/main/mocks/FAemu_preliminary/sikandar/Updated_Code_CFC/fof_v1.0/in/prepped_QSO_EZmock_forFAemu_m1.dat'\n",
    "\n",
    "data = ascii.read(namin_ref, format='no_header')\n",
    "RA = np.array(data[\"col1\"])\n",
    "dec = np.array(data[\"col2\"])\n",
    "#truez = np.array(data[\"col3\"])\n",
    "rsdz = np.array(data[\"col4\"])\n",
    "#DESI_target = np.array(data[\"col5\"])\n",
    "#rchmsk = np.array(data[\"col6\"])\n",
    "#selmsk = np.array(data[\"col7\"])\n",
    "ntile = np.array(data[\"col8\"])\n",
    "#gcap = np.array(data[\"col9\"])\n",
    "#ntgal = np.array(data[\"col10\"])\n",
    "#comp = np.array(data[\"col11\"])\n",
    "targetid = np.array(data[\"col10\"])"
   ]
  },
  {
   "cell_type": "code",
   "execution_count": null,
   "metadata": {},
   "outputs": [],
   "source": []
  },
  {
   "cell_type": "markdown",
   "metadata": {},
   "source": [
    "## Writing output"
   ]
  },
  {
   "cell_type": "code",
   "execution_count": 26,
   "metadata": {},
   "outputs": [],
   "source": [
    "#targetid = np.arange(1, len(RA)+1, dtype=int)\n",
    "\n",
    "namout_tot = '/global/cfs/cdirs/desi/survey/catalogs/main/mocks/FAemu_preliminary/sikandar/Updated_Code_CFC/emulate_bitw_v1.1/out/emucat_out/catalogs/EZ_clustering_cat_FAemu_m1_B_QSO_llen0.02_truent_cfc_antico_deco0.1_beta0_mock0train.fits'\n",
    "\n",
    "col1 = fits.Column(name='TARGETID', array=targetid[id_msk_obs], format='K')\n",
    "col2 = fits.Column(name='RA', array=RA[id_msk_obs], format='E')\n",
    "col3 = fits.Column(name='DEC', array=dec[id_msk_obs], format='E')\n",
    "col4 = fits.Column(name='RSDZ', array=rsdz[id_msk_obs], format='E')\n",
    "col5 = fits.Column(name='NTILE', array=ntile[id_msk_obs], format='K')\n",
    "col6 = fits.Column(name='WEIGHT_IIP', array=wiip[id_msk_obs], format='E')\n",
    "col7 = fits.Column(name='BITWEIGHT', array=we_out[id_msk_obs], dim='4', format='4K')\n",
    "#col8 = fits.Column(name='DESI_TARGET', array=DESI_target[id_msk_obs], format='K')\n",
    "#col9 = fits.Column(name='TRUEZ', array=truez[id_msk_obs], format='E')\n",
    "#col10 = fits.Column(name='RCH_MASK', array=rchmsk[id_msk_obs], format='L')\n",
    "#col11 = fits.Column(name='SEL_MASK', array=selmsk[id_msk_obs], format='L')\n",
    "#col12 = fits.Column(name='GAL_CAP', array=gcap[id_msk_obs], format='A')\n",
    "\n",
    "tbl = fits.BinTableHDU.from_columns([col1, col2, col3, col4, col5, col6, col7])\n",
    "\n",
    "tbl.writeto(namout_tot, overwrite=True)"
   ]
  },
  {
   "cell_type": "code",
   "execution_count": 4,
   "metadata": {
    "tags": []
   },
   "outputs": [],
   "source": [
    "#namout_tot = '/global/cfs/cdirs/desi/survey/catalogs/main/mocks/FAemu_preliminary/sikandar/Updated_Code_CFC/emulate_bitw_v1.1/out/EZ_corr_clustering_cat_FAemu_m1_N_LRG_llen0.02_truent_cfc.fits'"
   ]
  },
  {
   "cell_type": "code",
   "execution_count": 27,
   "metadata": {
    "tags": []
   },
   "outputs": [
    {
     "name": "stdout",
     "output_type": "stream",
     "text": [
      "Filename: /global/cfs/cdirs/desi/survey/catalogs/main/mocks/FAemu_preliminary/sikandar/Updated_Code_CFC/emulate_bitw_v1.1/out/emucat_out/catalogs/EZ_clustering_cat_FAemu_m1_B_QSO_llen0.02_truent_cfc_antico_deco0.1_beta0_mock0train.fits\n",
      "No.    Name      Ver    Type      Cards   Dimensions   Format\n",
      "  0  PRIMARY       1 PrimaryHDU       4   ()      \n",
      "  1                1 BinTableHDU     23   2227537R x 7C   [K, E, E, E, K, E, 4K]   \n"
     ]
    },
    {
     "data": {
      "text/plain": [
       "XTENSION= 'BINTABLE'           / binary table extension                         \n",
       "BITPIX  =                    8 / array data type                                \n",
       "NAXIS   =                    2 / number of array dimensions                     \n",
       "NAXIS1  =                   64 / length of dimension 1                          \n",
       "NAXIS2  =              2227537 / length of dimension 2                          \n",
       "PCOUNT  =                    0 / number of group parameters                     \n",
       "GCOUNT  =                    1 / number of groups                               \n",
       "TFIELDS =                    7 / number of table fields                         \n",
       "TTYPE1  = 'TARGETID'                                                            \n",
       "TFORM1  = 'K       '                                                            \n",
       "TTYPE2  = 'RA      '                                                            \n",
       "TFORM2  = 'E       '                                                            \n",
       "TTYPE3  = 'DEC     '                                                            \n",
       "TFORM3  = 'E       '                                                            \n",
       "TTYPE4  = 'RSDZ    '                                                            \n",
       "TFORM4  = 'E       '                                                            \n",
       "TTYPE5  = 'NTILE   '                                                            \n",
       "TFORM5  = 'K       '                                                            \n",
       "TTYPE6  = 'WEIGHT_IIP'                                                          \n",
       "TFORM6  = 'E       '                                                            \n",
       "TTYPE7  = 'BITWEIGHT'                                                           \n",
       "TFORM7  = '4K      '                                                            \n",
       "TDIM7   = '4       '                                                            "
      ]
     },
     "execution_count": 27,
     "metadata": {},
     "output_type": "execute_result"
    }
   ],
   "source": [
    "namin_test = namout_tot\n",
    "\n",
    "hdul = fits.open(namin_test)\n",
    "hdul.info()\n",
    "hdul[1].header"
   ]
  },
  {
   "cell_type": "code",
   "execution_count": 28,
   "metadata": {},
   "outputs": [
    {
     "name": "stdout",
     "output_type": "stream",
     "text": [
      "(2227537,)\n",
      "(2227537, 4)\n",
      "[28719373 28719374 28719375 ... 31683175 31683178 31683179]\n",
      "[1.0158103 1.4043716 1.0239043 ... 1.1077586 1.1077586 1.1077586]\n",
      "[[                  -1                   -1             -8388609\n",
      "         -283484618753]\n",
      " [ 6803715761272377299  -262337155694068817  9113930763718752603\n",
      "   -326256323115878441]\n",
      " [ 9223372036854775679                  -33        -549755813889\n",
      "                -16389]\n",
      " ...\n",
      " [            -8913170  -144132780664815649        -275179897861\n",
      "    -76596378047897873]\n",
      " [      -4398185005057 -2377905002371875077  -577621836582389761\n",
      "    -18306871023108161]\n",
      " [      -8847666315265 -1874060394943873057 -2306999832889262338\n",
      "        -4402341543941]]\n"
     ]
    }
   ],
   "source": [
    "data_test = hdul[1].data\n",
    "#print(data_test)\n",
    "print(np.shape(data_test['RA']))\n",
    "print(np.shape(data_test['BITWEIGHT']))\n",
    "print(data_test['TARGETID'])\n",
    "print(data_test['WEIGHT_IIP'])\n",
    "print(data_test['BITWEIGHT'])"
   ]
  },
  {
   "cell_type": "code",
   "execution_count": null,
   "metadata": {
    "tags": []
   },
   "outputs": [],
   "source": []
  },
  {
   "cell_type": "code",
   "execution_count": null,
   "metadata": {},
   "outputs": [],
   "source": []
  }
 ],
 "metadata": {
  "kernelspec": {
   "display_name": "cosmodesi-main",
   "language": "python",
   "name": "cosmodesi-main"
  }
 },
 "nbformat": 4,
 "nbformat_minor": 4
}
